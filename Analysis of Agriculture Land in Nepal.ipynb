{
    "cells": [
        {
            "cell_type": "markdown",
            "metadata": {},
            "source": "# Analysis of Agriculture Land in Nepal\n### This notebook analyzes and visualizes agricultural land in Nepal"
        },
        {
            "cell_type": "code",
            "execution_count": 20,
            "metadata": {},
            "outputs": [
                {
                    "data": {
                        "text/html": "<div>\n<style scoped>\n    .dataframe tbody tr th:only-of-type {\n        vertical-align: middle;\n    }\n\n    .dataframe tbody tr th {\n        vertical-align: top;\n    }\n\n    .dataframe thead th {\n        text-align: right;\n    }\n</style>\n<table border=\"1\" class=\"dataframe\">\n  <thead>\n    <tr style=\"text-align: right;\">\n      <th></th>\n      <th>Country Code</th>\n      <th>Region</th>\n      <th>IncomeGroup</th>\n      <th>SpecialNotes</th>\n      <th>TableName</th>\n      <th>Unnamed: 5</th>\n    </tr>\n  </thead>\n  <tbody>\n    <tr>\n      <th>0</th>\n      <td>ABW</td>\n      <td>Latin America &amp; Caribbean</td>\n      <td>High income</td>\n      <td>NaN</td>\n      <td>Aruba</td>\n      <td>NaN</td>\n    </tr>\n    <tr>\n      <th>1</th>\n      <td>AFE</td>\n      <td>NaN</td>\n      <td>NaN</td>\n      <td>26 countries, stretching from the Red Sea in t...</td>\n      <td>Africa Eastern and Southern</td>\n      <td>NaN</td>\n    </tr>\n    <tr>\n      <th>2</th>\n      <td>AFG</td>\n      <td>South Asia</td>\n      <td>Low income</td>\n      <td>The reporting period for national accounts dat...</td>\n      <td>Afghanistan</td>\n      <td>NaN</td>\n    </tr>\n    <tr>\n      <th>3</th>\n      <td>AFW</td>\n      <td>NaN</td>\n      <td>NaN</td>\n      <td>22 countries, stretching from the westernmost ...</td>\n      <td>Africa Western and Central</td>\n      <td>NaN</td>\n    </tr>\n    <tr>\n      <th>4</th>\n      <td>AGO</td>\n      <td>Sub-Saharan Africa</td>\n      <td>Lower middle income</td>\n      <td>The World Bank systematically assesses the app...</td>\n      <td>Angola</td>\n      <td>NaN</td>\n    </tr>\n  </tbody>\n</table>\n</div>",
                        "text/plain": "  Country Code                     Region          IncomeGroup  \\\n0          ABW  Latin America & Caribbean          High income   \n1          AFE                        NaN                  NaN   \n2          AFG                 South Asia           Low income   \n3          AFW                        NaN                  NaN   \n4          AGO         Sub-Saharan Africa  Lower middle income   \n\n                                        SpecialNotes  \\\n0                                                NaN   \n1  26 countries, stretching from the Red Sea in t...   \n2  The reporting period for national accounts dat...   \n3  22 countries, stretching from the westernmost ...   \n4  The World Bank systematically assesses the app...   \n\n                     TableName  Unnamed: 5  \n0                        Aruba         NaN  \n1  Africa Eastern and Southern         NaN  \n2                  Afghanistan         NaN  \n3   Africa Western and Central         NaN  \n4                       Angola         NaN  "
                    },
                    "execution_count": 20,
                    "metadata": {},
                    "output_type": "execute_result"
                }
            ],
            "source": "# The code was removed by Watson Studio for sharing."
        },
        {
            "cell_type": "code",
            "execution_count": null,
            "metadata": {},
            "outputs": [],
            "source": ""
        }
    ],
    "metadata": {
        "kernelspec": {
            "display_name": "Python 3.10",
            "language": "python",
            "name": "python3"
        },
        "language_info": {
            "codemirror_mode": {
                "name": "ipython",
                "version": 3
            },
            "file_extension": ".py",
            "mimetype": "text/x-python",
            "name": "python",
            "nbconvert_exporter": "python",
            "pygments_lexer": "ipython3",
            "version": "3.10.9"
        }
    },
    "nbformat": 4,
    "nbformat_minor": 1
}